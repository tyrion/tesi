{
 "cells": [
  {
   "cell_type": "code",
   "execution_count": 24,
   "metadata": {
    "collapsed": false
   },
   "outputs": [],
   "source": [
    "import numpy as np\n",
    "import matplotlib.pyplot as plt\n",
    "\n",
    "from sklearn.linear_model import Ridge\n",
    "from sklearn.preprocessing import PolynomialFeatures\n",
    "from sklearn.pipeline import make_pipeline\n",
    "\n",
    "import ifqi.envs as envs\n",
    "import ifqi.models as md\n",
    "from ifqi.utils.datasetGenerator import DatasetGenerator\n",
    "from ifqi.fqi.FQI import FQI\n",
    "import ifqi.evaluation.evaluation as evaluate"
   ]
  },
  {
   "cell_type": "code",
   "execution_count": 25,
   "metadata": {
    "collapsed": true
   },
   "outputs": [],
   "source": [
    "mdp = envs.LQG1D()"
   ]
  },
  {
   "cell_type": "code",
   "execution_count": 26,
   "metadata": {
    "collapsed": true
   },
   "outputs": [],
   "source": [
    "stateDim, actionDim = envs.getSpaceInfo(mdp)"
   ]
  },
  {
   "cell_type": "code",
   "execution_count": 27,
   "metadata": {
    "collapsed": false
   },
   "outputs": [
    {
     "data": {
      "text/plain": [
       "(1, 1)"
      ]
     },
     "execution_count": 27,
     "metadata": {},
     "output_type": "execute_result"
    }
   ],
   "source": [
    "stateDim, actionDim"
   ]
  },
  {
   "cell_type": "code",
   "execution_count": 28,
   "metadata": {
    "collapsed": false
   },
   "outputs": [],
   "source": [
    "model = make_pipeline(PolynomialFeatures(2), Ridge())"
   ]
  },
  {
   "cell_type": "code",
   "execution_count": 29,
   "metadata": {
    "collapsed": true
   },
   "outputs": [],
   "source": [
    "dataset = DatasetGenerator(mdp)\n",
    "dataset.generate(n_episodes=100)"
   ]
  },
  {
   "cell_type": "code",
   "execution_count": 30,
   "metadata": {
    "collapsed": false
   },
   "outputs": [
    {
     "data": {
      "text/plain": [
       "(0.99, 100)"
      ]
     },
     "execution_count": 30,
     "metadata": {},
     "output_type": "execute_result"
    }
   ],
   "source": [
    "mdp.gamma, mdp.horizon"
   ]
  },
  {
   "cell_type": "code",
   "execution_count": 31,
   "metadata": {
    "collapsed": false
   },
   "outputs": [
    {
     "data": {
      "text/plain": [
       "(matrix([[  5.83980884,  -5.23966874,   0.76392749,   0.        ],\n",
       "         [  0.76392749,   4.84561105,   5.46498108,   0.        ],\n",
       "         [  5.46498108,   3.36148848,   8.86839676,   0.        ],\n",
       "         ..., \n",
       "         [  2.8798684 ,  -6.4695538 ,  -3.70918393,   0.        ],\n",
       "         [ -3.70918393,   6.82733502,   3.1373224 ,   0.        ],\n",
       "         [  3.1373224 ,   7.98977713,  11.29105845,   0.        ]]),\n",
       " array([-55.40174623, -21.65717846, -37.04906066, ..., -45.13389159,\n",
       "        -54.333494  , -66.31139744]))"
      ]
     },
     "execution_count": 31,
     "metadata": {},
     "output_type": "execute_result"
    }
   ],
   "source": [
    "dataset.sastr"
   ]
  },
  {
   "cell_type": "code",
   "execution_count": 32,
   "metadata": {
    "collapsed": false
   },
   "outputs": [
    {
     "data": {
      "text/plain": [
       "Box(1,)"
      ]
     },
     "execution_count": 32,
     "metadata": {},
     "output_type": "execute_result"
    }
   ],
   "source": [
    "mdp.action_space"
   ]
  },
  {
   "cell_type": "code",
   "execution_count": 33,
   "metadata": {
    "collapsed": false
   },
   "outputs": [
    {
     "data": {
      "text/plain": [
       "Box(1,)"
      ]
     },
     "execution_count": 33,
     "metadata": {},
     "output_type": "execute_result"
    }
   ],
   "source": [
    "mdp.observation_space"
   ]
  },
  {
   "cell_type": "code",
   "execution_count": 34,
   "metadata": {
    "collapsed": true
   },
   "outputs": [],
   "source": [
    "actions = np.linspace(-8, 8, 100)"
   ]
  },
  {
   "cell_type": "code",
   "execution_count": 35,
   "metadata": {
    "collapsed": false
   },
   "outputs": [
    {
     "data": {
      "text/plain": [
       "array([-8.        , -7.83838384, -7.67676768, -7.51515152, -7.35353535,\n",
       "       -7.19191919, -7.03030303, -6.86868687, -6.70707071, -6.54545455,\n",
       "       -6.38383838, -6.22222222, -6.06060606, -5.8989899 , -5.73737374,\n",
       "       -5.57575758, -5.41414141, -5.25252525, -5.09090909, -4.92929293,\n",
       "       -4.76767677, -4.60606061, -4.44444444, -4.28282828, -4.12121212,\n",
       "       -3.95959596, -3.7979798 , -3.63636364, -3.47474747, -3.31313131,\n",
       "       -3.15151515, -2.98989899, -2.82828283, -2.66666667, -2.50505051,\n",
       "       -2.34343434, -2.18181818, -2.02020202, -1.85858586, -1.6969697 ,\n",
       "       -1.53535354, -1.37373737, -1.21212121, -1.05050505, -0.88888889,\n",
       "       -0.72727273, -0.56565657, -0.4040404 , -0.24242424, -0.08080808,\n",
       "        0.08080808,  0.24242424,  0.4040404 ,  0.56565657,  0.72727273,\n",
       "        0.88888889,  1.05050505,  1.21212121,  1.37373737,  1.53535354,\n",
       "        1.6969697 ,  1.85858586,  2.02020202,  2.18181818,  2.34343434,\n",
       "        2.50505051,  2.66666667,  2.82828283,  2.98989899,  3.15151515,\n",
       "        3.31313131,  3.47474747,  3.63636364,  3.7979798 ,  3.95959596,\n",
       "        4.12121212,  4.28282828,  4.44444444,  4.60606061,  4.76767677,\n",
       "        4.92929293,  5.09090909,  5.25252525,  5.41414141,  5.57575758,\n",
       "        5.73737374,  5.8989899 ,  6.06060606,  6.22222222,  6.38383838,\n",
       "        6.54545455,  6.70707071,  6.86868687,  7.03030303,  7.19191919,\n",
       "        7.35353535,  7.51515152,  7.67676768,  7.83838384,  8.        ])"
      ]
     },
     "execution_count": 35,
     "metadata": {},
     "output_type": "execute_result"
    }
   ],
   "source": [
    "actions"
   ]
  },
  {
   "cell_type": "code",
   "execution_count": 36,
   "metadata": {
    "collapsed": true
   },
   "outputs": [],
   "source": [
    "fqi = FQI(estimator=model,\n",
    "          stateDim=stateDim,\n",
    "          actionDim=actionDim,\n",
    "          discreteActions=actions,\n",
    "          gamma=mdp.gamma,\n",
    "          horizon=mdp.horizon,\n",
    "          verbose=True,\n",
    "          features=None,\n",
    "          scaled=True)"
   ]
  },
  {
   "cell_type": "code",
   "execution_count": 38,
   "metadata": {
    "collapsed": false
   },
   "outputs": [
    {
     "name": "stdout",
     "output_type": "stream",
     "text": [
      "Iteration 2\n",
      "\tperformance -63.999436381992986\n",
      "\tperformance -1.3411929059457948\n",
      "\tperformance -26.38588613353694\n",
      "\tperformance -76.92164490178622\n",
      "\tperformance -80.51436908506791\n",
      "\tperformance -71.8885821673459\n",
      "\tperformance -17.157032230441267\n",
      "\tperformance -23.868838918659282\n",
      "\tperformance -106.50494273355535\n",
      "\tperformance -31.687011158481923\n",
      "Iteration 3\n",
      "\tperformance -103.08320331078313\n",
      "\tperformance -1.5154277457748713\n",
      "\tperformance -1.4318214217655654\n",
      "\tperformance -10.079020027746456\n",
      "\tperformance -142.44576541866493\n",
      "\tperformance -136.48354258692902\n",
      "\tperformance -35.39042209982839\n",
      "\tperformance -27.024873704969647\n",
      "\tperformance -7.635303820902953\n",
      "\tperformance -4.999732153663772\n"
     ]
    },
    {
     "data": {
      "image/png": "[encoded data removed]",
      "text/plain": [
       "<matplotlib.figure.Figure at 0x7f70d83599e8>"
      ]
     },
     "metadata": {},
     "output_type": "display_data"
    },
    {
     "name": "stdout",
     "output_type": "stream",
     "text": [
      "Iteration 4\n",
      "\tperformance -5.72603548970581\n",
      "\tperformance -25.96736065053835\n",
      "\tperformance -1.2061284389032818\n",
      "\tperformance -20.75232152512591\n",
      "\tperformance -22.20449874154005\n",
      "\tperformance -24.923431458764046\n",
      "\tperformance -3.1252224732625438\n",
      "\tperformance -71.24815452125115\n",
      "\tperformance -39.90148559372635\n",
      "\tperformance -11.68016036698789\n",
      "Iteration 5\n",
      "\tperformance -22.82771874013656\n",
      "\tperformance -32.64030388435399\n",
      "\tperformance -7.429414454225278\n",
      "\tperformance -8.190664752431568\n",
      "\tperformance -1.9594592708214704\n",
      "\tperformance -102.51959810340017\n",
      "\tperformance -24.952782013549637\n",
      "\tperformance -97.26194061918271\n",
      "\tperformance -116.72110343469978\n",
      "\tperformance -143.55366807078613\n",
      "Iteration 6\n",
      "\tperformance -1.8712679035428461\n",
      "\tperformance -10.097205173150167\n",
      "\tperformance -33.378968350493736\n",
      "\tperformance -133.04128507425446\n",
      "\tperformance -55.15450166878364\n",
      "\tperformance -6.448843457960952\n",
      "\tperformance -151.55765189571127\n",
      "\tperformance -2.7948891910381772\n",
      "\tperformance -83.95530493264894\n",
      "\tperformance -143.69051717259387\n",
      "Iteration 7\n",
      "\tperformance -55.78453679850154\n",
      "\tperformance -4.282420857131776\n",
      "\tperformance -64.70218232914593\n",
      "\tperformance -16.9877929202624\n",
      "\tperformance -87.23337063273502\n",
      "\tperformance -40.15146360435496\n",
      "\tperformance -23.136007109211\n",
      "\tperformance -1.9896191312368223\n",
      "\tperformance -58.56193717455322\n",
      "\tperformance -80.27445197629991\n",
      "Iteration 8\n",
      "\tperformance -20.754222095651357\n",
      "\tperformance -26.440665358436952\n",
      "\tperformance -141.86338798924473\n",
      "\tperformance -15.09138707048349\n",
      "\tperformance -31.78690627921623\n",
      "\tperformance -32.608804473186076\n",
      "\tperformance -14.616740347746857\n",
      "\tperformance -4.571685776211592\n",
      "\tperformance -39.31927891718598\n",
      "\tperformance -150.35355013287798\n",
      "Iteration 9\n",
      "\tperformance -87.39166413962596\n",
      "\tperformance -2.379889886647047\n",
      "\tperformance -137.7538592705101\n",
      "\tperformance -9.872546984772786\n",
      "\tperformance -63.07989480426283\n",
      "\tperformance -122.6067927693795\n",
      "\tperformance -148.45025645103158\n",
      "\tperformance -3.4649536724715246\n",
      "\tperformance -31.85439456336603\n",
      "\tperformance -2.445670018561283\n",
      "Iteration 10\n",
      "\tperformance -127.6729333895519\n",
      "\tperformance -4.882873745333945\n",
      "\tperformance -107.16022059887207\n",
      "\tperformance -92.65016335698488\n",
      "\tperformance -18.358553274350378\n",
      "\tperformance -39.21010403991071\n",
      "\tperformance -130.19917575641534\n",
      "\tperformance -74.27594455827442\n",
      "\tperformance -68.91566350131755\n",
      "\tperformance -1.8748622965745898\n"
     ]
    },
    {
     "data": {
      "image/png": "[encoded data removed]",
      "text/plain": [
       "<matplotlib.figure.Figure at 0x7f70d62850f0>"
      ]
     },
     "metadata": {},
     "output_type": "display_data"
    }
   ],
   "source": [
    "fqi.partial_fit(*dataset.sastr)\n",
    "\n",
    "fitParams = {}\n",
    "iterations=10\n",
    "iterationValues = []\n",
    "for i in range(iterations - 1):\n",
    "    fqi.partial_fit(None, None, **fitParams)\n",
    "    values = evaluate.evaluate_policy(mdp, fqi, nbEpisodes=10)\n",
    "    iterationValues.append(values[0])\n",
    "\n",
    "    if i == 1:\n",
    "        fig1 = plt.figure(1)\n",
    "        ax = fig1.add_subplot(1, 1, 1)\n",
    "        h = ax.plot(range(i + 1), iterationValues, 'ro-')\n",
    "        plt.ylim(min(iterationValues), max(iterationValues))\n",
    "        plt.xlim(0, i + 1)\n",
    "        plt.ion()  # turns on interactive mode\n",
    "        plt.show()\n",
    "    elif i > 1:\n",
    "        h[0].set_data(range(i + 1), iterationValues)\n",
    "        ax.figure.canvas.draw()\n",
    "        plt.ylim(min(iterationValues), max(iterationValues))\n",
    "        plt.xlim(0, i + 1)\n",
    "        # plt.show()"
   ]
  },
  {
   "cell_type": "code",
   "execution_count": null,
   "metadata": {
    "collapsed": true
   },
   "outputs": [],
   "source": []
  }
 ],
 "metadata": {
  "kernelspec": {
   "display_name": "Python 3",
   "language": "python",
   "name": "python3"
  },
  "language_info": {
   "codemirror_mode": {
    "name": "ipython",
    "version": 3
   },
   "file_extension": ".py",
   "mimetype": "text/x-python",
   "name": "python",
   "nbconvert_exporter": "python",
   "pygments_lexer": "ipython3",
   "version": "3.5.2+"
  }
 },
 "nbformat": 4,
 "nbformat_minor": 1
}
